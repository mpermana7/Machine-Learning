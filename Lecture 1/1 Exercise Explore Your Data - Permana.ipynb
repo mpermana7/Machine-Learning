{
  "metadata": {
    "kernelspec": {
      "language": "python",
      "display_name": "Python 3",
      "name": "python3"
    },
    "language_info": {
      "pygments_lexer": "ipython3",
      "nbconvert_exporter": "python",
      "version": "3.6.4",
      "file_extension": ".py",
      "codemirror_mode": {
        "name": "ipython",
        "version": 3
      },
      "name": "python",
      "mimetype": "text/x-python"
    },
    "colab": {
      "name": "Exercise: Explore Your Data",
      "provenance": []
    }
  },
  "nbformat_minor": 0,
  "nbformat": 4,
  "cells": [
    {
      "source": [
        "\n",
        "# IMPORTANT: RUN THIS CELL IN ORDER TO IMPORT YOUR KAGGLE DATA SOURCES\n",
        "# TO THE CORRECT LOCATION (/kaggle/input) IN YOUR NOTEBOOK,\n",
        "# THEN FEEL FREE TO DELETE THIS CELL.\n",
        "# NOTE: THIS NOTEBOOK ENVIRONMENT DIFFERS FROM KAGGLE'S PYTHON\n",
        "# ENVIRONMENT SO THERE MAY BE MISSING LIBRARIES USED BY YOUR\n",
        "# NOTEBOOK.\n",
        "\n",
        "import os\n",
        "import sys\n",
        "from tempfile import NamedTemporaryFile\n",
        "from urllib.request import urlopen\n",
        "from urllib.parse import unquote, urlparse\n",
        "from urllib.error import HTTPError\n",
        "from zipfile import ZipFile\n",
        "import tarfile\n",
        "import shutil\n",
        "\n",
        "CHUNK_SIZE = 40960\n",
        "DATA_SOURCE_MAPPING = 'iowa-house-prices:https%3A%2F%2Fstorage.googleapis.com%2Fkaggle-data-sets%2F13812%2F18623%2Fbundle%2Farchive.zip%3FX-Goog-Algorithm%3DGOOG4-RSA-SHA256%26X-Goog-Credential%3Dgcp-kaggle-com%2540kaggle-161607.iam.gserviceaccount.com%252F20240307%252Fauto%252Fstorage%252Fgoog4_request%26X-Goog-Date%3D20240307T093400Z%26X-Goog-Expires%3D259200%26X-Goog-SignedHeaders%3Dhost%26X-Goog-Signature%3D227015aa20192ff4ecf0daac08545c49d2f9c69d6a9398b955fb5bcc065e6bfd97fed7f75bd80f953b497dc31826b3fb44063910ea45bf3af7a1a34f92edb25c8c26db42abcca8f95703acab4ac63522e7673a4e1261bda433472bdb1aa3dc377d7017ca1b3cd298dd4e2eddc8fa270dd91c59a0f5a757f012af2521d9dc56703e0fdd4f7e81fdb25b4c840e44dd657354ea9d2ba3d3e2f92b9adde450146f8c8b3cda50bcc4098b18b226c3e9b0da57fbb052c58cc73c7e94d871defe88de064fea4ca767294f302d5aac89e5582d55eb70756b32239f03e3a80b1ea5f8714bcbaa995995129c2513459d5d7fdee352883e5877dd57376060101dd8eda3593b,melbourne-housing-snapshot:https%3A%2F%2Fstorage.googleapis.com%2Fkaggle-data-sets%2F2709%2F38454%2Fbundle%2Farchive.zip%3FX-Goog-Algorithm%3DGOOG4-RSA-SHA256%26X-Goog-Credential%3Dgcp-kaggle-com%2540kaggle-161607.iam.gserviceaccount.com%252F20240307%252Fauto%252Fstorage%252Fgoog4_request%26X-Goog-Date%3D20240307T093400Z%26X-Goog-Expires%3D259200%26X-Goog-SignedHeaders%3Dhost%26X-Goog-Signature%3D62b03ffd498e3f964804fc06757dc34031a761f4692cf110d8f4c02fb2e86f17bcf48e42792a7c8674cef0c197896925e426e503c3e1d1dbcab16b582a60210b9150b885fbfbc6fbe172990710fd5bc163203fa88ae7741ee7d4205693c162b71337e43e79241245c82e940d47a50a1777ede74c7967417d78b11a44a9c3f7585c417ba6270fda28e36780803d6a82b766836b3236403498a15bf244c3faa02fa345c0f4214780da080115c4d2ad1789b5b57dfbd36cac9a438ac862f886d819d5f040aa3682233361269b426c8f0a6196b91f9dc33298bd8e9b3952263905f6b576b872e2d66a48bfb70b03b0e092a42013da657f4c2c20f4b71cfe917eefc3'\n",
        "\n",
        "KAGGLE_INPUT_PATH='/kaggle/input'\n",
        "KAGGLE_WORKING_PATH='/kaggle/working'\n",
        "KAGGLE_SYMLINK='kaggle'\n",
        "\n",
        "!umount /kaggle/input/ 2> /dev/null\n",
        "shutil.rmtree('/kaggle/input', ignore_errors=True)\n",
        "os.makedirs(KAGGLE_INPUT_PATH, 0o777, exist_ok=True)\n",
        "os.makedirs(KAGGLE_WORKING_PATH, 0o777, exist_ok=True)\n",
        "\n",
        "try:\n",
        "  os.symlink(KAGGLE_INPUT_PATH, os.path.join(\"..\", 'input'), target_is_directory=True)\n",
        "except FileExistsError:\n",
        "  pass\n",
        "try:\n",
        "  os.symlink(KAGGLE_WORKING_PATH, os.path.join(\"..\", 'working'), target_is_directory=True)\n",
        "except FileExistsError:\n",
        "  pass\n",
        "\n",
        "for data_source_mapping in DATA_SOURCE_MAPPING.split(','):\n",
        "    directory, download_url_encoded = data_source_mapping.split(':')\n",
        "    download_url = unquote(download_url_encoded)\n",
        "    filename = urlparse(download_url).path\n",
        "    destination_path = os.path.join(KAGGLE_INPUT_PATH, directory)\n",
        "    try:\n",
        "        with urlopen(download_url) as fileres, NamedTemporaryFile() as tfile:\n",
        "            total_length = fileres.headers['content-length']\n",
        "            print(f'Downloading {directory}, {total_length} bytes compressed')\n",
        "            dl = 0\n",
        "            data = fileres.read(CHUNK_SIZE)\n",
        "            while len(data) > 0:\n",
        "                dl += len(data)\n",
        "                tfile.write(data)\n",
        "                done = int(50 * dl / int(total_length))\n",
        "                sys.stdout.write(f\"\\r[{'=' * done}{' ' * (50-done)}] {dl} bytes downloaded\")\n",
        "                sys.stdout.flush()\n",
        "                data = fileres.read(CHUNK_SIZE)\n",
        "            if filename.endswith('.zip'):\n",
        "              with ZipFile(tfile) as zfile:\n",
        "                zfile.extractall(destination_path)\n",
        "            else:\n",
        "              with tarfile.open(tfile.name) as tarfile:\n",
        "                tarfile.extractall(destination_path)\n",
        "            print(f'\\nDownloaded and uncompressed: {directory}')\n",
        "    except HTTPError as e:\n",
        "        print(f'Failed to load (likely expired) {download_url} to path {destination_path}')\n",
        "        continue\n",
        "    except OSError as e:\n",
        "        print(f'Failed to load {download_url} to path {destination_path}')\n",
        "        continue\n",
        "\n",
        "print('Data source import complete.')\n"
      ],
      "metadata": {
        "id": "4zXfck1JQzqM"
      },
      "cell_type": "code",
      "outputs": [],
      "execution_count": null
    },
    {
      "cell_type": "markdown",
      "source": [
        "**[Machine Learning Course Home Page](https://www.kaggle.com/learn/machine-learning)**\n",
        "\n",
        "---\n"
      ],
      "metadata": {
        "id": "swfDq2ynQzqU"
      }
    },
    {
      "cell_type": "markdown",
      "source": [
        "This exercise will test your ability to read a data file and understand statistics about the data.\n",
        "\n",
        "In later exercises, you will apply techniques to filter the data, build a machine learning model, and iteratively improve your model.\n",
        "\n",
        "The course examples use data from Melbourne. To ensure you can apply these techniques on your own, you will have to apply them to a new dataset (with house prices from Iowa).\n",
        "\n",
        "The exercises use a \"notebook\" coding environment.  In case you are unfamiliar with notebooks, we have a [90-second intro video](https://www.youtube.com/watch?v=4C2qMnaIKL4).\n",
        "\n",
        "# Exercises\n",
        "\n",
        "Run the following cell to set up code-checking, which will verify your work as you go."
      ],
      "metadata": {
        "id": "MZZdI_laQzqW"
      }
    },
    {
      "cell_type": "code",
      "source": [
        "# Set up code checking\n",
        "from learntools.core import binder\n",
        "binder.bind(globals())\n",
        "from learntools.machine_learning.ex2 import *\n",
        "from subprocess import check_output\n",
        "print(\"Setup Complete\")"
      ],
      "metadata": {
        "execution": {
          "iopub.status.busy": "2021-08-15T22:20:37.135226Z",
          "iopub.execute_input": "2021-08-15T22:20:37.136176Z",
          "iopub.status.idle": "2021-08-15T22:20:37.143496Z",
          "shell.execute_reply.started": "2021-08-15T22:20:37.136131Z",
          "shell.execute_reply": "2021-08-15T22:20:37.142539Z"
        },
        "trusted": true,
        "id": "G1ROHSphQzqW"
      },
      "execution_count": null,
      "outputs": []
    },
    {
      "cell_type": "markdown",
      "source": [
        "## Step 1: Loading Data\n",
        "Read the Iowa data file into a Pandas DataFrame called `home_data`."
      ],
      "metadata": {
        "id": "u8WH_vzZQzqX"
      }
    },
    {
      "cell_type": "markdown",
      "source": [
        "### Import of 'pandas' library"
      ],
      "metadata": {
        "id": "WiHUfC3sQzqY"
      }
    },
    {
      "cell_type": "code",
      "source": [
        "import pandas as pd"
      ],
      "metadata": {
        "execution": {
          "iopub.status.busy": "2021-08-15T22:20:37.145316Z",
          "iopub.execute_input": "2021-08-15T22:20:37.146Z",
          "iopub.status.idle": "2021-08-15T22:20:37.15885Z",
          "shell.execute_reply.started": "2021-08-15T22:20:37.145954Z",
          "shell.execute_reply": "2021-08-15T22:20:37.157889Z"
        },
        "trusted": true,
        "id": "g8HmK8mLQzqY"
      },
      "execution_count": null,
      "outputs": []
    },
    {
      "cell_type": "markdown",
      "source": [
        "**Get data**<br>\n",
        "- We will then get the required datasets using '+ Add data' option on right upper corner of this screen.\n",
        "- Access the datasets using the file paths and convert into pandas dataframes making use of proper pandas commands."
      ],
      "metadata": {
        "id": "D9yrP7pFQzqZ"
      }
    },
    {
      "cell_type": "code",
      "source": [
        "iowa_file_path = '../input/iowa-house-prices/train.csv'\n",
        "home_data = pd.read_csv(iowa_file_path)"
      ],
      "metadata": {
        "execution": {
          "iopub.status.busy": "2021-08-15T22:23:27.284393Z",
          "iopub.execute_input": "2021-08-15T22:23:27.284762Z",
          "iopub.status.idle": "2021-08-15T22:23:27.319411Z",
          "shell.execute_reply.started": "2021-08-15T22:23:27.284727Z",
          "shell.execute_reply": "2021-08-15T22:23:27.318472Z"
        },
        "trusted": true,
        "id": "gdADqOsnQzqZ"
      },
      "execution_count": null,
      "outputs": []
    },
    {
      "cell_type": "code",
      "source": [
        "# Lines below will give you a hint or solution code\n",
        "# step_1.hint()\n",
        "# step_1.solution()"
      ],
      "metadata": {
        "execution": {
          "iopub.status.busy": "2021-08-15T22:25:28.864498Z",
          "iopub.execute_input": "2021-08-15T22:25:28.864857Z",
          "iopub.status.idle": "2021-08-15T22:25:28.868106Z",
          "shell.execute_reply.started": "2021-08-15T22:25:28.864826Z",
          "shell.execute_reply": "2021-08-15T22:25:28.86746Z"
        },
        "trusted": true,
        "id": "vs_uddXRQzqa"
      },
      "execution_count": null,
      "outputs": []
    },
    {
      "cell_type": "markdown",
      "source": [
        "## Step 2: Review The Data\n",
        "Use the command you learned to view summary statistics of the data. Then fill in variables to answer the following questions"
      ],
      "metadata": {
        "id": "1F7J0Y1fQzqa"
      }
    },
    {
      "cell_type": "code",
      "source": [
        "# Read data summary\n",
        "data_summary = home_data.describe()\n",
        "\n",
        "# Locate required values in the dataframe\n",
        "avg_lot_size = round(data_summary.loc['mean', 'LotArea' ])\n",
        "newest_home_age = int(2021 - data_summary.loc['max', 'YearBuilt'])\n",
        "\n",
        "print('\\navg_lot_size:', avg_lot_size)\n",
        "print('\\nnewest_home_age:', newest_home_age)"
      ],
      "metadata": {
        "execution": {
          "iopub.status.busy": "2021-08-15T22:26:30.435718Z",
          "iopub.execute_input": "2021-08-15T22:26:30.43604Z",
          "iopub.status.idle": "2021-08-15T22:26:30.519044Z",
          "shell.execute_reply.started": "2021-08-15T22:26:30.436013Z",
          "shell.execute_reply": "2021-08-15T22:26:30.518158Z"
        },
        "trusted": true,
        "id": "ATBs4aMgQzqa"
      },
      "execution_count": null,
      "outputs": []
    },
    {
      "cell_type": "code",
      "source": [
        "# What is the average lot size (rounded to nearest integer)?\n",
        "avg_lot_size = 10517\n",
        "\n",
        "# As of today, how old is the newest home (current year - the date in which it was built)\n",
        "newest_home_age = 11\n",
        "\n",
        "# Checks your answers\n",
        "step_2.check()"
      ],
      "metadata": {
        "execution": {
          "iopub.status.busy": "2021-08-15T22:20:37.304747Z",
          "iopub.execute_input": "2021-08-15T22:20:37.305177Z",
          "iopub.status.idle": "2021-08-15T22:20:37.313981Z",
          "shell.execute_reply.started": "2021-08-15T22:20:37.305133Z",
          "shell.execute_reply": "2021-08-15T22:20:37.312915Z"
        },
        "trusted": true,
        "id": "5FARyidEQzqa"
      },
      "execution_count": null,
      "outputs": []
    },
    {
      "cell_type": "code",
      "source": [
        "# step_2.hint()\n",
        "# step_2.solution()"
      ],
      "metadata": {
        "execution": {
          "iopub.status.busy": "2021-08-15T22:20:37.315367Z",
          "iopub.execute_input": "2021-08-15T22:20:37.315705Z",
          "iopub.status.idle": "2021-08-15T22:20:37.327246Z",
          "shell.execute_reply.started": "2021-08-15T22:20:37.315675Z",
          "shell.execute_reply": "2021-08-15T22:20:37.326187Z"
        },
        "trusted": true,
        "id": "vLsmD-HkQzqb"
      },
      "execution_count": null,
      "outputs": []
    },
    {
      "cell_type": "markdown",
      "source": [
        "**Second dataset**"
      ],
      "metadata": {
        "id": "YkfofVr3Qzqb"
      }
    },
    {
      "cell_type": "code",
      "source": [
        "melbourne_file_path = '../input/melbourne-housing-snapshot/melb_data.csv'\n",
        "melbourne_data = pd.read_csv(melbourne_file_path)"
      ],
      "metadata": {
        "execution": {
          "iopub.status.busy": "2021-08-15T22:20:37.328437Z",
          "iopub.execute_input": "2021-08-15T22:20:37.328723Z",
          "iopub.status.idle": "2021-08-15T22:20:37.398862Z",
          "shell.execute_reply.started": "2021-08-15T22:20:37.328696Z",
          "shell.execute_reply": "2021-08-15T22:20:37.397859Z"
        },
        "trusted": true,
        "id": "P8sJFAJOQzqb"
      },
      "execution_count": null,
      "outputs": []
    },
    {
      "cell_type": "code",
      "source": [
        "features = ['Rooms', 'Bathroom', 'Landsize', 'Lattitude', 'Longtitude']"
      ],
      "metadata": {
        "execution": {
          "iopub.status.busy": "2021-08-15T22:20:37.40189Z",
          "iopub.execute_input": "2021-08-15T22:20:37.402315Z",
          "iopub.status.idle": "2021-08-15T22:20:37.406817Z",
          "shell.execute_reply.started": "2021-08-15T22:20:37.402273Z",
          "shell.execute_reply": "2021-08-15T22:20:37.405926Z"
        },
        "trusted": true,
        "id": "5OeXGRFMQzqb"
      },
      "execution_count": null,
      "outputs": []
    },
    {
      "cell_type": "markdown",
      "source": [
        "**Check types of data**"
      ],
      "metadata": {
        "id": "8Fm-8J0CQzqb"
      }
    },
    {
      "cell_type": "code",
      "source": [
        "melbourne_data[features].info()"
      ],
      "metadata": {
        "execution": {
          "iopub.status.busy": "2021-08-15T22:27:41.590258Z",
          "iopub.execute_input": "2021-08-15T22:27:41.590632Z",
          "iopub.status.idle": "2021-08-15T22:27:41.605775Z",
          "shell.execute_reply.started": "2021-08-15T22:27:41.590603Z",
          "shell.execute_reply": "2021-08-15T22:27:41.604502Z"
        },
        "trusted": true,
        "id": "ViXCZ3oLQzqc"
      },
      "execution_count": null,
      "outputs": []
    },
    {
      "cell_type": "markdown",
      "source": [
        "**Statistics of data**"
      ],
      "metadata": {
        "id": "ltoRhyC_Qzqc"
      }
    },
    {
      "cell_type": "code",
      "source": [
        "melbourne_data[features].describe()"
      ],
      "metadata": {
        "execution": {
          "iopub.status.busy": "2021-08-15T22:28:30.908555Z",
          "iopub.execute_input": "2021-08-15T22:28:30.908926Z",
          "iopub.status.idle": "2021-08-15T22:28:30.937795Z",
          "shell.execute_reply.started": "2021-08-15T22:28:30.908896Z",
          "shell.execute_reply": "2021-08-15T22:28:30.936763Z"
        },
        "trusted": true,
        "id": "C-TxsPnnQzqc"
      },
      "execution_count": null,
      "outputs": []
    },
    {
      "cell_type": "markdown",
      "source": [
        "**Check how many features available**"
      ],
      "metadata": {
        "id": "Jhz1TfA6Qzqc"
      }
    },
    {
      "cell_type": "markdown",
      "source": [
        "Taotal features (columns) of dataset in the form of a python list. We can find the total number of elements from the list that represents total features."
      ],
      "metadata": {
        "id": "-5olkAXrQzqc"
      }
    },
    {
      "cell_type": "code",
      "source": [
        "len(melbourne_data.columns)"
      ],
      "metadata": {
        "execution": {
          "iopub.status.busy": "2021-08-15T22:28:34.595494Z",
          "iopub.execute_input": "2021-08-15T22:28:34.595855Z",
          "iopub.status.idle": "2021-08-15T22:28:34.602461Z",
          "shell.execute_reply.started": "2021-08-15T22:28:34.595827Z",
          "shell.execute_reply": "2021-08-15T22:28:34.601304Z"
        },
        "trusted": true,
        "id": "gh2n4GSfQzqc"
      },
      "execution_count": null,
      "outputs": []
    },
    {
      "cell_type": "markdown",
      "source": [
        "**Drop rows containing missing data**\n",
        "- axis=0, means row\n",
        "- axis=1, means column"
      ],
      "metadata": {
        "id": "DalMeEsRQzqc"
      }
    },
    {
      "cell_type": "markdown",
      "source": [
        "__dropna()__\n",
        "<br> This command will drop the rows(if, axis=0) or columns(if, axis=1) having null values such as 'NaN'. By pandas default, axis=0."
      ],
      "metadata": {
        "id": "DKDlD1FHQzqc"
      }
    },
    {
      "cell_type": "code",
      "source": [
        "# The Melbourne data has some missing values (some houses for which some variables weren't recorded.)(不存在某些值。)\n",
        "# We'll learn to handle missing values in a later tutorial.\n",
        "# Your Iowa data doesn't have missing values in the columns you use.\n",
        "# So we will take the simplest option for now, and drop houses from our data.\n",
        "# Don't worry about this much for now, though the code is:\n",
        "\n",
        "# dropna drops missing values (think of na as \"not available\")(not available)\n",
        "# axis,axis=0 down(row)(axis=None),axis=1 cross(column)\n",
        "melbourne_data = melbourne_data.dropna(axis=0)"
      ],
      "metadata": {
        "execution": {
          "iopub.status.busy": "2021-08-15T22:33:18.566795Z",
          "iopub.execute_input": "2021-08-15T22:33:18.567152Z",
          "iopub.status.idle": "2021-08-15T22:33:18.5828Z",
          "shell.execute_reply.started": "2021-08-15T22:33:18.567124Z",
          "shell.execute_reply": "2021-08-15T22:33:18.58174Z"
        },
        "trusted": true,
        "id": "PoB_ZTBcQzqc"
      },
      "execution_count": null,
      "outputs": []
    },
    {
      "cell_type": "markdown",
      "source": [
        "Types of <u>*data*</u>"
      ],
      "metadata": {
        "id": "jkwMUOH9Qzqd"
      }
    },
    {
      "cell_type": "code",
      "source": [
        "melbourne_data.info()"
      ],
      "metadata": {
        "execution": {
          "iopub.status.busy": "2021-08-15T22:34:24.512375Z",
          "iopub.execute_input": "2021-08-15T22:34:24.512741Z",
          "iopub.status.idle": "2021-08-15T22:34:24.534844Z",
          "shell.execute_reply.started": "2021-08-15T22:34:24.512712Z",
          "shell.execute_reply": "2021-08-15T22:34:24.533493Z"
        },
        "trusted": true,
        "id": "ZFuj4fwYQzqd"
      },
      "execution_count": null,
      "outputs": []
    },
    {
      "cell_type": "markdown",
      "source": [
        "__Statistics of the data__"
      ],
      "metadata": {
        "id": "1ltvI3YeQzqd"
      }
    },
    {
      "cell_type": "code",
      "source": [
        "melbourne_data.describe()"
      ],
      "metadata": {
        "execution": {
          "iopub.status.busy": "2021-08-15T22:34:30.018196Z",
          "iopub.execute_input": "2021-08-15T22:34:30.018564Z",
          "iopub.status.idle": "2021-08-15T22:34:30.071887Z",
          "shell.execute_reply.started": "2021-08-15T22:34:30.018535Z",
          "shell.execute_reply": "2021-08-15T22:34:30.070861Z"
        },
        "trusted": true,
        "id": "HH4-J6W4Qzqd"
      },
      "execution_count": null,
      "outputs": []
    },
    {
      "cell_type": "markdown",
      "source": [
        "**First five rows**"
      ],
      "metadata": {
        "id": "LKIBgt-4Qzqd"
      }
    },
    {
      "cell_type": "code",
      "source": [
        "y = melbourne_data['Price']\n",
        "y.head()"
      ],
      "metadata": {
        "execution": {
          "iopub.status.busy": "2021-08-15T22:45:38.305441Z",
          "iopub.execute_input": "2021-08-15T22:45:38.305794Z",
          "iopub.status.idle": "2021-08-15T22:45:38.313008Z",
          "shell.execute_reply.started": "2021-08-15T22:45:38.305764Z",
          "shell.execute_reply": "2021-08-15T22:45:38.312339Z"
        },
        "trusted": true,
        "id": "ynQxEpq3Qzqd"
      },
      "execution_count": null,
      "outputs": []
    },
    {
      "cell_type": "code",
      "source": [
        "x = melbourne_data['Price']\n",
        "x.head()"
      ],
      "metadata": {
        "execution": {
          "iopub.status.busy": "2021-08-15T22:46:31.794709Z",
          "iopub.execute_input": "2021-08-15T22:46:31.795064Z",
          "iopub.status.idle": "2021-08-15T22:46:31.803499Z",
          "shell.execute_reply.started": "2021-08-15T22:46:31.795033Z",
          "shell.execute_reply": "2021-08-15T22:46:31.802311Z"
        },
        "trusted": true,
        "id": "SqI6kYWOQzqe"
      },
      "execution_count": null,
      "outputs": []
    },
    {
      "cell_type": "code",
      "source": [
        "melbourne_features = ['Rooms', 'Bathroom', 'Landsize', 'Lattitude', 'Longtitude']\n",
        "melbourne_features"
      ],
      "metadata": {
        "execution": {
          "iopub.status.busy": "2021-08-15T22:46:34.546848Z",
          "iopub.execute_input": "2021-08-15T22:46:34.547241Z",
          "iopub.status.idle": "2021-08-15T22:46:34.556622Z",
          "shell.execute_reply.started": "2021-08-15T22:46:34.547195Z",
          "shell.execute_reply": "2021-08-15T22:46:34.555272Z"
        },
        "trusted": true,
        "id": "2l1oABZEQzqe"
      },
      "execution_count": null,
      "outputs": []
    },
    {
      "cell_type": "markdown",
      "source": [
        "## Think About Your Data\n",
        "\n",
        "The newest house in your data isn't that new.  A few potential explanations for this:\n",
        "1. They haven't built new houses where this data was collected.\n",
        "1. The data was collected a long time ago. Houses built after the data publication wouldn't show up.\n",
        "\n",
        "If the reason is explanation #1 above, does that affect your trust in the model you build with this data? What about if it is reason #2?\n",
        "\n",
        "How could you dig into the data to see which explanation is more plausible?\n",
        "\n",
        "Check out this **[discussion thread](https://www.kaggle.com/learn-forum/60581)** to see what others think or to add your ideas.\n",
        "\n",
        "# Keep Going\n",
        "\n",
        "You are ready for **[Your First Machine Learning Model](https://www.kaggle.com/dansbecker/your-first-machine-learning-model).**\n"
      ],
      "metadata": {
        "id": "xiHkBKaPQzqe"
      }
    },
    {
      "cell_type": "code",
      "source": [
        "X = melbourne_data[melbourne_features]\n",
        "y = melbourne_data[\"Price\"]\n",
        "print('\\nX.head()\\n: ', X.head(), '\\ny.head()\\n:', y.head())"
      ],
      "metadata": {
        "execution": {
          "iopub.status.busy": "2021-08-15T22:46:46.771791Z",
          "iopub.execute_input": "2021-08-15T22:46:46.772148Z",
          "iopub.status.idle": "2021-08-15T22:46:46.783478Z",
          "shell.execute_reply.started": "2021-08-15T22:46:46.772115Z",
          "shell.execute_reply": "2021-08-15T22:46:46.782328Z"
        },
        "trusted": true,
        "id": "FImYC1mjQzqe"
      },
      "execution_count": null,
      "outputs": []
    },
    {
      "cell_type": "markdown",
      "source": [
        "---\n",
        "**[Machine Learning Course Home Page](https://www.kaggle.com/learn/machine-learning)**\n",
        "\n"
      ],
      "metadata": {
        "id": "XknPB06kQzqe"
      }
    },
    {
      "cell_type": "markdown",
      "source": [
        "**DecisionTreeRegressor**\n",
        "<br> This is a very basic Machine Learning model that is very often used."
      ],
      "metadata": {
        "id": "QsPT19AIQzqe"
      }
    },
    {
      "cell_type": "code",
      "source": [
        "from sklearn.tree import DecisionTreeRegressor\n",
        "# Define model. Specify a number for random_state to ensure same results each run\n",
        "melbourne_model = DecisionTreeRegressor(random_state=1)\n",
        "\n",
        "# Fit model\n",
        "melbourne_model.fit(X, y)\n",
        "\n",
        "DecisionTreeRegressor(criterion='mse', max_depth=None, max_features=None,\n",
        "                      max_leaf_nodes=None, min_impurity_decrease=0.0,\n",
        "                      min_impurity_split=None, min_samples_leaf=1,\n",
        "                      min_samples_split=2, min_weight_fraction_leaf=0.0,\n",
        "                      presort=False, random_state=1, splitter='best')"
      ],
      "metadata": {
        "execution": {
          "iopub.status.busy": "2021-08-15T22:47:24.055705Z",
          "iopub.execute_input": "2021-08-15T22:47:24.056036Z",
          "iopub.status.idle": "2021-08-15T22:47:24.100228Z",
          "shell.execute_reply.started": "2021-08-15T22:47:24.056008Z",
          "shell.execute_reply": "2021-08-15T22:47:24.099267Z"
        },
        "trusted": true,
        "id": "PxQO2o3tQzqn"
      },
      "execution_count": null,
      "outputs": []
    },
    {
      "cell_type": "code",
      "source": [
        "print(\"Making predictions for the following 5 houses:\")\n",
        "print(X.head())\n",
        "print(\"The predictions are\")\n",
        "print(melbourne_model.predict(X.head()))"
      ],
      "metadata": {
        "execution": {
          "iopub.status.busy": "2021-08-15T22:47:39.300705Z",
          "iopub.execute_input": "2021-08-15T22:47:39.301034Z",
          "iopub.status.idle": "2021-08-15T22:47:39.314001Z",
          "shell.execute_reply.started": "2021-08-15T22:47:39.301006Z",
          "shell.execute_reply": "2021-08-15T22:47:39.312858Z"
        },
        "trusted": true,
        "id": "MwYKre1nQzqn"
      },
      "execution_count": null,
      "outputs": []
    },
    {
      "cell_type": "code",
      "source": [],
      "metadata": {
        "id": "dSI2Q4UkQzqn"
      },
      "execution_count": null,
      "outputs": []
    }
  ]
}