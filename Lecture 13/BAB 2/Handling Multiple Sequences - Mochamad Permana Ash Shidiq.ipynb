{
  "cells": [
    {
      "cell_type": "markdown",
      "metadata": {
        "id": "view-in-github"
      },
      "source": [
        "<a href=\"https://colab.research.google.com/github/irawan555/MachineLearningTasks/blob/main/13thWeekTasks/BAB%202/Irawan_Mardiansyah_1103210174_Handling_multiple_sequences.ipynb\" target=\"_parent\"><img src=\"https://colab.research.google.com/assets/colab-badge.svg\" alt=\"Open In Colab\"/></a>"
      ]
    },
    {
      "cell_type": "markdown",
      "metadata": {
        "id": "yyPp49G83yaC"
      },
      "source": [
        "Nama : Mochamad Permana Ash Shidiq\n",
        "\n",
        "NIM : 1103228233"
      ]
    },
    {
      "cell_type": "markdown",
      "metadata": {
        "id": "6cPC2e8L21aG"
      },
      "source": [
        "# Handling multiple sequences (PyTorch)"
      ]
    },
    {
      "cell_type": "markdown",
      "metadata": {
        "id": "JWe2qow821aJ"
      },
      "source": [
        "Install the Transformers, Datasets, and Evaluate libraries to run this notebook."
      ]
    },
    {
      "cell_type": "code",
      "execution_count": null,
      "metadata": {
        "colab": {
          "base_uri": "https://localhost:8080/"
        },
        "id": "I3pOvV8Z21aJ",
        "outputId": "36c3ac82-a2c7-4b71-8bcc-2730855dd9d1"
      },
      "outputs": [
        {
          "name": "stdout",
          "output_type": "stream",
          "text": [
            "Requirement already satisfied: datasets in /usr/local/lib/python3.10/dist-packages (2.19.2)\n",
            "Requirement already satisfied: evaluate in /usr/local/lib/python3.10/dist-packages (0.4.2)\n",
            "Requirement already satisfied: transformers[sentencepiece] in /usr/local/lib/python3.10/dist-packages (4.41.2)\n",
            "Requirement already satisfied: filelock in /usr/local/lib/python3.10/dist-packages (from datasets) (3.14.0)\n",
            "Requirement already satisfied: numpy>=1.17 in /usr/local/lib/python3.10/dist-packages (from datasets) (1.25.2)\n",
            "Requirement already satisfied: pyarrow>=12.0.0 in /usr/local/lib/python3.10/dist-packages (from datasets) (14.0.2)\n",
            "Requirement already satisfied: pyarrow-hotfix in /usr/local/lib/python3.10/dist-packages (from datasets) (0.6)\n",
            "Requirement already satisfied: dill<0.3.9,>=0.3.0 in /usr/local/lib/python3.10/dist-packages (from datasets) (0.3.8)\n",
            "Requirement already satisfied: pandas in /usr/local/lib/python3.10/dist-packages (from datasets) (2.0.3)\n",
            "Requirement already satisfied: requests>=2.32.1 in /usr/local/lib/python3.10/dist-packages (from datasets) (2.32.3)\n",
            "Requirement already satisfied: tqdm>=4.62.1 in /usr/local/lib/python3.10/dist-packages (from datasets) (4.66.4)\n",
            "Requirement already satisfied: xxhash in /usr/local/lib/python3.10/dist-packages (from datasets) (3.4.1)\n",
            "Requirement already satisfied: multiprocess in /usr/local/lib/python3.10/dist-packages (from datasets) (0.70.16)\n",
            "Requirement already satisfied: fsspec[http]<=2024.3.1,>=2023.1.0 in /usr/local/lib/python3.10/dist-packages (from datasets) (2023.6.0)\n",
            "Requirement already satisfied: aiohttp in /usr/local/lib/python3.10/dist-packages (from datasets) (3.9.5)\n",
            "Requirement already satisfied: huggingface-hub>=0.21.2 in /usr/local/lib/python3.10/dist-packages (from datasets) (0.23.2)\n",
            "Requirement already satisfied: packaging in /usr/local/lib/python3.10/dist-packages (from datasets) (24.0)\n",
            "Requirement already satisfied: pyyaml>=5.1 in /usr/local/lib/python3.10/dist-packages (from datasets) (6.0.1)\n",
            "Requirement already satisfied: regex!=2019.12.17 in /usr/local/lib/python3.10/dist-packages (from transformers[sentencepiece]) (2024.5.15)\n",
            "Requirement already satisfied: tokenizers<0.20,>=0.19 in /usr/local/lib/python3.10/dist-packages (from transformers[sentencepiece]) (0.19.1)\n",
            "Requirement already satisfied: safetensors>=0.4.1 in /usr/local/lib/python3.10/dist-packages (from transformers[sentencepiece]) (0.4.3)\n",
            "Requirement already satisfied: sentencepiece!=0.1.92,>=0.1.91 in /usr/local/lib/python3.10/dist-packages (from transformers[sentencepiece]) (0.1.99)\n",
            "Requirement already satisfied: protobuf in /usr/local/lib/python3.10/dist-packages (from transformers[sentencepiece]) (3.20.3)\n",
            "Requirement already satisfied: aiosignal>=1.1.2 in /usr/local/lib/python3.10/dist-packages (from aiohttp->datasets) (1.3.1)\n",
            "Requirement already satisfied: attrs>=17.3.0 in /usr/local/lib/python3.10/dist-packages (from aiohttp->datasets) (23.2.0)\n",
            "Requirement already satisfied: frozenlist>=1.1.1 in /usr/local/lib/python3.10/dist-packages (from aiohttp->datasets) (1.4.1)\n",
            "Requirement already satisfied: multidict<7.0,>=4.5 in /usr/local/lib/python3.10/dist-packages (from aiohttp->datasets) (6.0.5)\n",
            "Requirement already satisfied: yarl<2.0,>=1.0 in /usr/local/lib/python3.10/dist-packages (from aiohttp->datasets) (1.9.4)\n",
            "Requirement already satisfied: async-timeout<5.0,>=4.0 in /usr/local/lib/python3.10/dist-packages (from aiohttp->datasets) (4.0.3)\n",
            "Requirement already satisfied: typing-extensions>=3.7.4.3 in /usr/local/lib/python3.10/dist-packages (from huggingface-hub>=0.21.2->datasets) (4.12.1)\n",
            "Requirement already satisfied: charset-normalizer<4,>=2 in /usr/local/lib/python3.10/dist-packages (from requests>=2.32.1->datasets) (3.3.2)\n",
            "Requirement already satisfied: idna<4,>=2.5 in /usr/local/lib/python3.10/dist-packages (from requests>=2.32.1->datasets) (3.7)\n",
            "Requirement already satisfied: urllib3<3,>=1.21.1 in /usr/local/lib/python3.10/dist-packages (from requests>=2.32.1->datasets) (2.0.7)\n",
            "Requirement already satisfied: certifi>=2017.4.17 in /usr/local/lib/python3.10/dist-packages (from requests>=2.32.1->datasets) (2024.6.2)\n",
            "Requirement already satisfied: python-dateutil>=2.8.2 in /usr/local/lib/python3.10/dist-packages (from pandas->datasets) (2.8.2)\n",
            "Requirement already satisfied: pytz>=2020.1 in /usr/local/lib/python3.10/dist-packages (from pandas->datasets) (2023.4)\n",
            "Requirement already satisfied: tzdata>=2022.1 in /usr/local/lib/python3.10/dist-packages (from pandas->datasets) (2024.1)\n",
            "Requirement already satisfied: six>=1.5 in /usr/local/lib/python3.10/dist-packages (from python-dateutil>=2.8.2->pandas->datasets) (1.16.0)\n"
          ]
        }
      ],
      "source": [
        "!pip install datasets evaluate transformers[sentencepiece]"
      ]
    },
    {
      "cell_type": "markdown",
      "metadata": {
        "id": "4JA_Lue_7gnT"
      },
      "source": [
        "Models expect a batch of inputs"
      ]
    },
    {
      "cell_type": "code",
      "execution_count": null,
      "metadata": {
        "colab": {
          "base_uri": "https://localhost:8080/"
        },
        "id": "HLu2llnn21aK",
        "outputId": "ae1c4a8d-52cb-4d6c-acc9-c1f1a7a5c6f8"
      },
      "outputs": [
        {
          "name": "stdout",
          "output_type": "stream",
          "text": [
            "SequenceClassifierOutput(loss=None, logits=tensor([[-1.5607,  1.6123]], grad_fn=<AddmmBackward0>), hidden_states=None, attentions=None)\n"
          ]
        }
      ],
      "source": [
        "import torch\n",
        "# Mengimpor pustaka PyTorch yang digunakan untuk pemrosesan tensor dan deep learning\n",
        "\n",
        "from transformers import AutoTokenizer, AutoModelForSequenceClassification\n",
        "# Mengimpor modul dari pustaka HuggingFace Transformers untuk tokenisasi teks dan model klasifikasi urutan\n",
        "\n",
        "checkpoint = \"distilbert-base-uncased-finetuned-sst-2-english\"\n",
        "# Menetapkan nama checkpoint model yang telah dilatih sebelumnya pada dataset SST-2 untuk klasifikasi sentimen\n",
        "\n",
        "tokenizer = AutoTokenizer.from_pretrained(checkpoint)\n",
        "# Memuat tokenizer yang sesuai dengan checkpoint model yang ditentukan, untuk mengubah teks menjadi token yang bisa diproses oleh model\n",
        "\n",
        "model = AutoModelForSequenceClassification.from_pretrained(checkpoint)\n",
        "# Memuat model klasifikasi urutan yang sesuai dengan checkpoint yang ditentukan\n",
        "\n",
        "sequence = \"I've been waiting for a HuggingFace course my whole life.\"\n",
        "# Menetapkan urutan teks yang akan diklasifikasikan sentimennya\n",
        "\n",
        "inputs = tokenizer(sequence, return_tensors=\"pt\")\n",
        "# Menggunakan tokenizer untuk mengubah urutan teks menjadi tensor yang bisa diproses oleh model. Parameter return_tensors=\"pt\" menunjukkan bahwa hasil tokenisasi akan dikembalikan dalam bentuk tensor PyTorch\n",
        "\n",
        "outputs = model(**inputs)\n",
        "# Menjalankan model pada input tensor yang telah di-tokenisasi untuk mendapatkan output prediksi\n",
        "\n",
        "print(outputs)\n",
        "# Mencetak output dari model yang berisi logits atau skor prediksi untuk setiap kelas sentimen"
      ]
    },
    {
      "cell_type": "code",
      "execution_count": null,
      "metadata": {
        "colab": {
          "base_uri": "https://localhost:8080/"
        },
        "id": "BDhTM-m921aL",
        "outputId": "a2de474c-8060-4a39-f6e4-7aced03e52ef"
      },
      "outputs": [
        {
          "name": "stdout",
          "output_type": "stream",
          "text": [
            "tensor([[  101,  1045,  1005,  2310,  2042,  3403,  2005,  1037, 17662, 12172,\n",
            "          2607,  2026,  2878,  2166,  1012,   102]])\n"
          ]
        }
      ],
      "source": [
        "tokenized_inputs = tokenizer(sequence, return_tensors=\"pt\")\n",
        "# Mengubah 'sequence' menjadi token menggunakan tokenizer\n",
        "# #tokenizer: Sebuah objek atau fungsi yang bertugas untuk memecah teks menjadi token-token\n",
        "# #sequence: Teks asli yang akan diubah menjadi token\n",
        "# #return_tensors=\"pt\": Mengembalikan hasil tokenisasi dalam bentuk tensor PyTorch\n",
        "\n",
        "print(tokenized_inputs[\"input_ids\"])\n",
        "# Mencetak token ID dari hasil tokenisasi\n",
        "# #input_ids: Kunci dalam dictionary 'tokenized_inputs' yang menyimpan ID token hasil tokenisasi"
      ]
    },
    {
      "cell_type": "code",
      "execution_count": null,
      "metadata": {
        "colab": {
          "base_uri": "https://localhost:8080/"
        },
        "id": "0lqfO7Hm21aM",
        "outputId": "aa95c3f7-91fd-4e51-a601-4467fd99de1c"
      },
      "outputs": [
        {
          "name": "stdout",
          "output_type": "stream",
          "text": [
            "Input IDs: tensor([[ 1045,  1005,  2310,  2042,  3403,  2005,  1037, 17662, 12172,  2607,\n",
            "          2026,  2878,  2166,  1012]])\n",
            "Logits: tensor([[-2.7276,  2.8789]], grad_fn=<AddmmBackward0>)\n"
          ]
        }
      ],
      "source": [
        "import torch\n",
        "# Mengimpor pustaka PyTorch untuk operasi tensor\n",
        "\n",
        "from transformers import AutoTokenizer, AutoModelForSequenceClassification\n",
        "# Mengimpor AutoTokenizer dan AutoModelForSequenceClassification dari pustaka Transformers oleh HuggingFace\n",
        "\n",
        "checkpoint = \"distilbert-base-uncased-finetuned-sst-2-english\"\n",
        "# Menyimpan nama model pre-trained yang akan digunakan sebagai checkpoint\n",
        "\n",
        "tokenizer = AutoTokenizer.from_pretrained(checkpoint)\n",
        "# Memuat tokenizer pre-trained sesuai dengan checkpoint yang ditentukan\n",
        "\n",
        "model = AutoModelForSequenceClassification.from_pretrained(checkpoint)\n",
        "# Memuat model pre-trained untuk tugas klasifikasi urutan sesuai dengan checkpoint yang ditentukan\n",
        "\n",
        "sequence = \"I've been waiting for a HuggingFace course my whole life.\"\n",
        "# Mendefinisikan teks input yang akan diklasifikasikan\n",
        "\n",
        "tokens = tokenizer.tokenize(sequence)\n",
        "# Tokenisasi teks input menjadi token-token individual\n",
        "\n",
        "ids = tokenizer.convert_tokens_to_ids(tokens)\n",
        "# Mengonversi token-token menjadi ID yang sesuai berdasarkan vocabulary model\n",
        "\n",
        "input_ids = torch.tensor([ids])\n",
        "# Mengonversi daftar ID token menjadi tensor PyTorch\n",
        "\n",
        "print(\"Input IDs:\", input_ids)\n",
        "# Mencetak ID input yang telah dikonversi ke tensor\n",
        "\n",
        "output = model(input_ids)\n",
        "# Melakukan inferensi menggunakan model pre-trained dengan input tensor\n",
        "\n",
        "print(\"Logits:\", output.logits)\n",
        "# Mencetak hasil logit dari output model"
      ]
    },
    {
      "cell_type": "markdown",
      "metadata": {
        "id": "Y5ccuWVy7nhi"
      },
      "source": [
        "Padding the inputs"
      ]
    },
    {
      "cell_type": "code",
      "execution_count": null,
      "metadata": {
        "id": "gltbxDxz21aM"
      },
      "outputs": [],
      "source": [
        "batched_ids = [   # Membuat daftar yang berisi beberapa daftar ID\n",
        "    [200, 200, 200],  # Daftar pertama yang berisi tiga ID dengan nilai 200\n",
        "    [200, 200]        # Daftar kedua yang berisi dua ID dengan nilai 200\n",
        "]"
      ]
    },
    {
      "cell_type": "code",
      "execution_count": null,
      "metadata": {
        "id": "oBTMkvRa21aM"
      },
      "outputs": [],
      "source": [
        "padding_id = 100\n",
        "# #padding_id: ID yang digunakan untuk mengisi nilai padding dalam batch\n",
        "\n",
        "batched_ids = [\n",
        "    [200, 200, 200],\n",
        "    # #baris_1: Batch pertama dengan semua ID bernilai 200\n",
        "    [200, 200, padding_id],\n",
        "    # #baris_2: Batch kedua dengan dua ID bernilai 200 dan satu ID sebagai padding\n",
        "]"
      ]
    },
    {
      "cell_type": "code",
      "execution_count": null,
      "metadata": {
        "colab": {
          "base_uri": "https://localhost:8080/"
        },
        "id": "sJ9oCLcE21aN",
        "outputId": "eaf41ca3-b74c-4c40-a071-c1f92e539b8e"
      },
      "outputs": [
        {
          "name": "stdout",
          "output_type": "stream",
          "text": [
            "tensor([[ 1.5694, -1.3895]], grad_fn=<AddmmBackward0>)\n",
            "tensor([[ 0.5803, -0.4125]], grad_fn=<AddmmBackward0>)\n",
            "tensor([[ 1.5694, -1.3895],\n",
            "        [ 1.3373, -1.2163]], grad_fn=<AddmmBackward0>)\n"
          ]
        }
      ],
      "source": [
        "# Memuat model pra-latih untuk klasifikasi urutan dari checkpoint yang diberikan\n",
        "model = AutoModelForSequenceClassification.from_pretrained(checkpoint)\n",
        "\n",
        "# Mendefinisikan ID token untuk urutan pertama\n",
        "sequence1_ids = [[200, 200, 200]]\n",
        "# Mendefinisikan ID token untuk urutan kedua\n",
        "sequence2_ids = [[200, 200]]\n",
        "# Mendefinisikan ID token untuk batch yang berisi dua urutan dengan padding pada urutan kedua\n",
        "batched_ids = [\n",
        "    [200, 200, 200],\n",
        "    [200, 200, tokenizer.pad_token_id],\n",
        "]\n",
        "\n",
        "# Mencetak logits dari model untuk urutan pertama\n",
        "print(model(torch.tensor(sequence1_ids)).logits)\n",
        "# Mencetak logits dari model untuk urutan kedua\n",
        "print(model(torch.tensor(sequence2_ids)).logits)\n",
        "# Mencetak logits dari model untuk batch yang berisi dua urutan\n",
        "print(model(torch.tensor(batched_ids)).logits)"
      ]
    },
    {
      "cell_type": "markdown",
      "metadata": {
        "id": "spy_Sc7x7qya"
      },
      "source": [
        "Attention masks"
      ]
    },
    {
      "cell_type": "code",
      "execution_count": null,
      "metadata": {
        "colab": {
          "base_uri": "https://localhost:8080/"
        },
        "id": "DvLLm-lG21aN",
        "outputId": "7dcfc377-7f72-40bf-ce5a-4838a15e1cc6"
      },
      "outputs": [
        {
          "name": "stdout",
          "output_type": "stream",
          "text": [
            "tensor([[ 1.5694, -1.3895],\n",
            "        [ 0.5803, -0.4125]], grad_fn=<AddmmBackward0>)\n"
          ]
        }
      ],
      "source": [
        "# Membuat batch ID yang terdiri dari dua sekuens\n",
        "# Batch pertama: [200, 200, 200]\n",
        "# Batch kedua: [200, 200, tokenizer.pad_token_id] (dengan padding)\n",
        "batched_ids = [\n",
        "    [200, 200, 200],\n",
        "    [200, 200, tokenizer.pad_token_id],\n",
        "]\n",
        "\n",
        "# Membuat attention mask untuk dua sekuens\n",
        "# Batch pertama: [1, 1, 1] (semua token diaktifkan)\n",
        "# Batch kedua: [1, 1, 0] (token terakhir adalah padding dan tidak diaktifkan)\n",
        "attention_mask = [\n",
        "    [1, 1, 1],\n",
        "    [1, 1, 0],\n",
        "]\n",
        "\n",
        "# Mengirim input ke model untuk mendapatkan output\n",
        "# torch.tensor digunakan untuk mengubah batched_ids dan attention_mask menjadi tensor\n",
        "# output logits dihasilkan oleh model\n",
        "outputs = model(torch.tensor(batched_ids), attention_mask=torch.tensor(attention_mask))\n",
        "\n",
        "# Menampilkan hasil output logits dari model\n",
        "print(outputs.logits)"
      ]
    }
  ],
  "metadata": {
    "accelerator": "GPU",
    "colab": {
      "gpuType": "T4",
      "provenance": []
    },
    "kernelspec": {
      "display_name": "Python 3",
      "name": "python3"
    },
    "language_info": {
      "name": "python"
    }
  },
  "nbformat": 4,
  "nbformat_minor": 0
}