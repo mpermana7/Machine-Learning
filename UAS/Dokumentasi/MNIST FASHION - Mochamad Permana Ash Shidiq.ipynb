{
  "nbformat": 4,
  "nbformat_minor": 0,
  "metadata": {
    "colab": {
      "provenance": []
    },
    "kernelspec": {
      "name": "python3",
      "display_name": "Python 3"
    },
    "language_info": {
      "name": "python"
    }
  },
  "cells": [
    {
      "cell_type": "code",
      "source": [
        "import tensorflow as tf\n",
        "mnist = tf.keras.datasets.fashion_mnist\n",
        "(training_images, training_labels), (test_images, test_labels) = mnist.load_data()"
      ],
      "metadata": {
        "colab": {
          "base_uri": "https://localhost:8080/"
        },
        "id": "OO1jGFWznb52",
        "outputId": "dcaa1ac3-b5ab-45b4-de3e-7f3a46b633db"
      },
      "execution_count": 19,
      "outputs": [
        {
          "output_type": "stream",
          "name": "stdout",
          "text": [
            "Downloading data from https://storage.googleapis.com/tensorflow/tf-keras-datasets/train-labels-idx1-ubyte.gz\n",
            "29515/29515 [==============================] - 0s 0us/step\n",
            "Downloading data from https://storage.googleapis.com/tensorflow/tf-keras-datasets/train-images-idx3-ubyte.gz\n",
            "26421880/26421880 [==============================] - 0s 0us/step\n",
            "Downloading data from https://storage.googleapis.com/tensorflow/tf-keras-datasets/t10k-labels-idx1-ubyte.gz\n",
            "5148/5148 [==============================] - 0s 0us/step\n",
            "Downloading data from https://storage.googleapis.com/tensorflow/tf-keras-datasets/t10k-images-idx3-ubyte.gz\n",
            "4422102/4422102 [==============================] - 0s 0us/step\n"
          ]
        }
      ]
    },
    {
      "source": [
        "#shape of dataset\n",
        "print('X_train: ' + str(training_images.shape))\n",
        "print('Y_train: ' + str(training_labels.shape))\n",
        "print('X_test:  '  + str(test_images.shape))\n",
        "print('Y_test:  '  + str(test_labels.shape))"
      ],
      "cell_type": "code",
      "metadata": {
        "colab": {
          "base_uri": "https://localhost:8080/"
        },
        "id": "7YFXnVQOoQNP",
        "outputId": "df789450-8b94-44df-e028-138a9e396c6e"
      },
      "execution_count": 20,
      "outputs": [
        {
          "output_type": "stream",
          "name": "stdout",
          "text": [
            "X_train: (60000, 28, 28)\n",
            "Y_train: (60000,)\n",
            "X_test:  (10000, 28, 28)\n",
            "Y_test:  (10000,)\n"
          ]
        }
      ]
    },
    {
      "cell_type": "code",
      "source": [
        "# Bagian Split\n",
        "training_images = training_images[:100]\n",
        "training_labels = training_labels[:100]\n",
        "test_images = test_images[:100]\n",
        "test_labels = test_labels[:100]"
      ],
      "metadata": {
        "id": "6YP4gG6mpQcT"
      },
      "execution_count": 21,
      "outputs": []
    },
    {
      "cell_type": "code",
      "source": [
        "import numpy as np\n",
        "np.set_printoptions(linewidth=200)\n",
        "\n",
        "import matplotlib.pyplot as plt\n",
        "\n",
        "idx_data = 71\n",
        "plt.imshow(training_images[idx_data])\n",
        "print(training_labels[idx_data])\n",
        "print(training_images[idx_data])"
      ],
      "metadata": {
        "colab": {
          "base_uri": "https://localhost:8080/",
          "height": 933
        },
        "id": "HTVz63MVpjid",
        "outputId": "32aa0174-ed1c-411a-da8e-0570b864b16a"
      },
      "execution_count": 24,
      "outputs": [
        {
          "output_type": "stream",
          "name": "stdout",
          "text": [
            "1\n",
            "[[  0   0   0   0   0   0   0   0   0   0 187 190 184 184 138 182 194 155 150  42   0   0   0   0   0   0   0   0]\n",
            " [  0   0   0   0   0   0   0   0   0  23 241 185 189 204 205 204 191 145 157  66   0   0   0   0   0   0   0   0]\n",
            " [  0   0   0   0   0   0   0   0   0  78 189 190 198 226 200 198 201 184 181  84   0   0   0   0   0   0   0   0]\n",
            " [  0   0   0   0   0   0   0   0   0 129 214 200 184 213 162 134 191 186 197 130   0   0   0   0   0   0   0   0]\n",
            " [  0   0   0   0   0   0   0   0   0 165 204 180 181 202 192 183 198 183 173 132   0   0   0   0   0   0   0   0]\n",
            " [  0   0   0   0   0   0   0   0   0 203 197 181 190 201 203 219 203 191 178 138   0   0   0   0   0   0   0   0]\n",
            " [  0   0   0   0   0   0   0   0   0 216 191 192 204 206 186 195 200 186 184 149   0   0   0   0   0   0   0   0]\n",
            " [  0   0   0   0   0   0   0   0  33 228 187 197 202 197 210 201 211 192 177 144   0   0   0   0   0   0   0   0]\n",
            " [  0   0   0   0   0   0   0   0  67 233 185 185 186 212 232 214 209 188 178 136   0   0   0   0   0   0   0   0]\n",
            " [  0   0   0   0   0   0   0   0 103 219 175 189 190 238  85 222 209 189 189 128   0   0   0   0   0   0   0   0]\n",
            " [  0   0   0   0   0   0   0   0 130 204 177 177 197 205   0 255 206 183 196 102   0   0   0   0   0   0   0   0]\n",
            " [  0   0   0   0   0   0   0   0 144 196 176 171 230  76   0 255 204 190 197  86   0   0   0   0   0   0   0   0]\n",
            " [  0   0   0   0   0   0   0   0 157 196 169 184 210   0   0 240 204 185 204  75   0   0   0   0   0   0   0   0]\n",
            " [  0   0   0   0   0   0   0   0 162 188 174 185 188   0   0 222 205 178 210  75   0   0   0   0   0   0   0   0]\n",
            " [  0   0   0   0   0   0   0   0 162 189 167 187 151   0   0 190 207 177 206  54   0   0   0   0   0   0   0   0]\n",
            " [  0   0   0   0   0   0   0   0 160 194 171 189 119   0   0 158 210 177 199  31   0   0   0   0   0   0   0   0]\n",
            " [  0   0   0   0   0   0   0   0 157 203 177 191 119   0   0 125 210 177 191  17   0   0   0   0   0   0   0   0]\n",
            " [  0   0   0   0   0   0   0   0 138 220 176 194 123   0   0 111 208 184 193  13   0   0   0   0   0   0   0   0]\n",
            " [  0   0   0   0   0   0   0   0  78 233 180 193 134   0   0 107 209 186 226  10   0   0   0   0   0   0   0   0]\n",
            " [  0   0   0   0   0   0   0   0   7 221 191 203 159   0   0  99 222 188 219  29   0   0   0   0   0   0   0   0]\n",
            " [  0   0   0   0   0   0   0   0   0 201 192 201 219   0   0  80 221 203 198  15   0   0   0   0   0   0   0   0]\n",
            " [  0   0   0   0   0   0   0   0   0 148 210 184 197  47   0  68 225 200 195  18   0   0   0   0   0   0   0   0]\n",
            " [  0   0   0   0   0   0   0   0   0  65 216 188 201 114   0  50 220 200 189  15   0   0   0   0   0   0   0   0]\n",
            " [  0   0   0   0   0   0   0   0   0   0 202 194 195 178   0  25 216 197 187  12   0   0   0   0   0   0   0   0]\n",
            " [  0   0   0   0   0   0   0   0   0   0 183 207 196 222   0   0 211 200 186  12   0   0   0   0   0   0   0   0]\n",
            " [  0   0   0   0   0   0   0   0   2   0  97 214 192 235  25   0 199 200 179   4   0   0   0   0   0   0   0   0]\n",
            " [  0   0   0   0   0   0   0   0   4   0  16 206 193 215 124   0 252 201 181  14   0   0   0   0   0   0   0   0]\n",
            " [  0   0   0   0   0   0   0   0   1   0   0 149 204 134   6   0 165 190 124   0   0   0   0   0   0   0   0   0]]\n"
          ]
        },
        {
          "output_type": "display_data",
          "data": {
            "text/plain": [
              "<Figure size 640x480 with 1 Axes>"
            ],
            "image/png": "[encoded data removed]"
          },
          "metadata": {}
        }
      ]
    },
    {
      "cell_type": "code",
      "source": [
        "np.set_printoptions(linewidth=200)\n",
        "plt.imshow(training_images[idx_data], cmap=plt.get_cmap('gray'))"
      ],
      "metadata": {
        "colab": {
          "base_uri": "https://localhost:8080/",
          "height": 447
        },
        "id": "ZZN06shUqn3x",
        "outputId": "6534ae99-861d-4fef-fd48-c8c16db4f9f4"
      },
      "execution_count": 25,
      "outputs": [
        {
          "output_type": "execute_result",
          "data": {
            "text/plain": [
              "<matplotlib.image.AxesImage at 0x7c04cbf13790>"
            ]
          },
          "metadata": {},
          "execution_count": 25
        },
        {
          "output_type": "display_data",
          "data": {
            "text/plain": [
              "<Figure size 640x480 with 1 Axes>"
            ],
            "image/png": "[encoded data removed]"
          },
          "metadata": {}
        }
      ]
    },
    {
      "cell_type": "code",
      "source": [
        "training_images = np.array([[[1 if dd > 0 else 0 for dd in m] for m in x] for x in training_images])"
      ],
      "metadata": {
        "id": "RaQbkv7-rDEQ"
      },
      "execution_count": 27,
      "outputs": []
    },
    {
      "cell_type": "code",
      "source": [
        "import numpy as np\n",
        "np.set_printoptions(linewidth=200)\n",
        "import matplotlib.pyplot as plt\n",
        "plt.imshow(training_images[idx_data], cmap=plt.get_cmap('gray'))\n",
        "print(training_labels[idx_data])\n",
        "print(training_images[idx_data])"
      ],
      "metadata": {
        "colab": {
          "base_uri": "https://localhost:8080/",
          "height": 933
        },
        "id": "GBupOXFPrgoE",
        "outputId": "31b96d6b-6caa-4e3e-f527-d528bc71460b"
      },
      "execution_count": 28,
      "outputs": [
        {
          "output_type": "stream",
          "name": "stdout",
          "text": [
            "1\n",
            "[[0 0 0 0 0 0 0 0 0 0 1 1 1 1 1 1 1 1 1 1 0 0 0 0 0 0 0 0]\n",
            " [0 0 0 0 0 0 0 0 0 1 1 1 1 1 1 1 1 1 1 1 0 0 0 0 0 0 0 0]\n",
            " [0 0 0 0 0 0 0 0 0 1 1 1 1 1 1 1 1 1 1 1 0 0 0 0 0 0 0 0]\n",
            " [0 0 0 0 0 0 0 0 0 1 1 1 1 1 1 1 1 1 1 1 0 0 0 0 0 0 0 0]\n",
            " [0 0 0 0 0 0 0 0 0 1 1 1 1 1 1 1 1 1 1 1 0 0 0 0 0 0 0 0]\n",
            " [0 0 0 0 0 0 0 0 0 1 1 1 1 1 1 1 1 1 1 1 0 0 0 0 0 0 0 0]\n",
            " [0 0 0 0 0 0 0 0 0 1 1 1 1 1 1 1 1 1 1 1 0 0 0 0 0 0 0 0]\n",
            " [0 0 0 0 0 0 0 0 1 1 1 1 1 1 1 1 1 1 1 1 0 0 0 0 0 0 0 0]\n",
            " [0 0 0 0 0 0 0 0 1 1 1 1 1 1 1 1 1 1 1 1 0 0 0 0 0 0 0 0]\n",
            " [0 0 0 0 0 0 0 0 1 1 1 1 1 1 1 1 1 1 1 1 0 0 0 0 0 0 0 0]\n",
            " [0 0 0 0 0 0 0 0 1 1 1 1 1 1 0 1 1 1 1 1 0 0 0 0 0 0 0 0]\n",
            " [0 0 0 0 0 0 0 0 1 1 1 1 1 1 0 1 1 1 1 1 0 0 0 0 0 0 0 0]\n",
            " [0 0 0 0 0 0 0 0 1 1 1 1 1 0 0 1 1 1 1 1 0 0 0 0 0 0 0 0]\n",
            " [0 0 0 0 0 0 0 0 1 1 1 1 1 0 0 1 1 1 1 1 0 0 0 0 0 0 0 0]\n",
            " [0 0 0 0 0 0 0 0 1 1 1 1 1 0 0 1 1 1 1 1 0 0 0 0 0 0 0 0]\n",
            " [0 0 0 0 0 0 0 0 1 1 1 1 1 0 0 1 1 1 1 1 0 0 0 0 0 0 0 0]\n",
            " [0 0 0 0 0 0 0 0 1 1 1 1 1 0 0 1 1 1 1 1 0 0 0 0 0 0 0 0]\n",
            " [0 0 0 0 0 0 0 0 1 1 1 1 1 0 0 1 1 1 1 1 0 0 0 0 0 0 0 0]\n",
            " [0 0 0 0 0 0 0 0 1 1 1 1 1 0 0 1 1 1 1 1 0 0 0 0 0 0 0 0]\n",
            " [0 0 0 0 0 0 0 0 1 1 1 1 1 0 0 1 1 1 1 1 0 0 0 0 0 0 0 0]\n",
            " [0 0 0 0 0 0 0 0 0 1 1 1 1 0 0 1 1 1 1 1 0 0 0 0 0 0 0 0]\n",
            " [0 0 0 0 0 0 0 0 0 1 1 1 1 1 0 1 1 1 1 1 0 0 0 0 0 0 0 0]\n",
            " [0 0 0 0 0 0 0 0 0 1 1 1 1 1 0 1 1 1 1 1 0 0 0 0 0 0 0 0]\n",
            " [0 0 0 0 0 0 0 0 0 0 1 1 1 1 0 1 1 1 1 1 0 0 0 0 0 0 0 0]\n",
            " [0 0 0 0 0 0 0 0 0 0 1 1 1 1 0 0 1 1 1 1 0 0 0 0 0 0 0 0]\n",
            " [0 0 0 0 0 0 0 0 1 0 1 1 1 1 1 0 1 1 1 1 0 0 0 0 0 0 0 0]\n",
            " [0 0 0 0 0 0 0 0 1 0 1 1 1 1 1 0 1 1 1 1 0 0 0 0 0 0 0 0]\n",
            " [0 0 0 0 0 0 0 0 1 0 0 1 1 1 1 0 1 1 1 0 0 0 0 0 0 0 0 0]]\n"
          ]
        },
        {
          "output_type": "display_data",
          "data": {
            "text/plain": [
              "<Figure size 640x480 with 1 Axes>"
            ],
            "image/png": "[encoded data removed]"
          },
          "metadata": {}
        }
      ]
    }
  ]
}